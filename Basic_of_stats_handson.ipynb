{
  "nbformat": 4,
  "nbformat_minor": 0,
  "metadata": {
    "colab": {
      "provenance": []
    },
    "kernelspec": {
      "name": "python3",
      "display_name": "Python 3"
    },
    "language_info": {
      "name": "python"
    }
  },
  "cells": [
    {
      "cell_type": "code",
      "execution_count": 1,
      "metadata": {
        "id": "AaqAmGXVxL8J"
      },
      "outputs": [],
      "source": [
        "import pandas as pd\n",
        "import numpy as np"
      ]
    },
    {
      "cell_type": "code",
      "source": [
        "# import dataset\n",
        "data=pd.read_csv(\"country_profile_variables.csv\")"
      ],
      "metadata": {
        "id": "H5L31yPmyIwt"
      },
      "execution_count": 4,
      "outputs": []
    },
    {
      "cell_type": "markdown",
      "source": [
        "- data=pd.read_csv(r\"C:\\Users\\tiwar\\Downloads.csv\")\n",
        "- data=pd.read_csv(\"C:\\\\\\Users\\\\\\tiwar\\\\\\Downloads.csv\")\n",
        "- data=pd.read_csv(\"C:/Users/tiwar/Downloads.csv\")\n"
      ],
      "metadata": {
        "id": "tQtbUT3s0BBb"
      }
    },
    {
      "cell_type": "markdown",
      "source": [
        "## EDA\n",
        "- exploratory data analysis\n"
      ],
      "metadata": {
        "id": "aVhOw0evy1nQ"
      }
    },
    {
      "cell_type": "code",
      "source": [
        "data.head()\n",
        "# top 5 rows in my dataset"
      ],
      "metadata": {
        "colab": {
          "base_uri": "https://localhost:8080/",
          "height": 394
        },
        "id": "dQ8SoFjjyfp_",
        "outputId": "07d79bc4-15a1-42c0-b43d-f8e97ea8ffdb"
      },
      "execution_count": 5,
      "outputs": [
        {
          "output_type": "execute_result",
          "data": {
            "text/plain": [
              "          country          Region Surface area (km2)  \\\n",
              "0     Afghanistan    SouthernAsia             652864   \n",
              "1         Albania  SouthernEurope              28748   \n",
              "2         Algeria  NorthernAfrica            2381741   \n",
              "3  American Samoa       Polynesia                199   \n",
              "4         Andorra  SouthernEurope                468   \n",
              "\n",
              "   Population in thousands (2017)  Population density (per km2, 2017)  \\\n",
              "0                           35530                                54.4   \n",
              "1                            2930                               106.9   \n",
              "2                           41318                                17.3   \n",
              "3                              56                               278.2   \n",
              "4                              77                               163.8   \n",
              "\n",
              "   Sex ratio (m per 100 f, 2017)  \\\n",
              "0                          106.3   \n",
              "1                          101.9   \n",
              "2                          102.0   \n",
              "3                          103.6   \n",
              "4                          102.3   \n",
              "\n",
              "   GDP: Gross domestic product (million current US$)  \\\n",
              "0                                              20270   \n",
              "1                                              11541   \n",
              "2                                             164779   \n",
              "3                                                -99   \n",
              "4                                               2812   \n",
              "\n",
              "  GDP growth rate (annual %, const. 2005 prices)  \\\n",
              "0                                           -2.4   \n",
              "1                                            2.6   \n",
              "2                                            3.8   \n",
              "3                                            -99   \n",
              "4                                            0.8   \n",
              "\n",
              "   GDP per capita (current US$) Economy: Agriculture (% of GVA)  ...  \\\n",
              "0                         623.2                            23.3  ...   \n",
              "1                        3984.2                            22.4  ...   \n",
              "2                        4154.1                            12.2  ...   \n",
              "3                         -99.0                             -99  ...   \n",
              "4                       39896.4                             0.5  ...   \n",
              "\n",
              "   Mobile-cellular subscriptions (per 100 inhabitants).1  \\\n",
              "0                                                8.3       \n",
              "1                                               63.3       \n",
              "2                                               38.2       \n",
              "3                                                -99       \n",
              "4                                               96.9       \n",
              "\n",
              "   Individuals using the Internet (per 100 inhabitants)  \\\n",
              "0                                                 42      \n",
              "1                                                130      \n",
              "2                                                135      \n",
              "3                                                 92      \n",
              "4                                                 13      \n",
              "\n",
              "  Threatened species (number) Forested area (% of land area)  \\\n",
              "0                         2.1                        9.8/0.3   \n",
              "1                        28.2                        5.7/2.0   \n",
              "2                         0.8                      145.4/3.7   \n",
              "3                        87.9                            -99   \n",
              "4                        34.0                        0.5/6.4   \n",
              "\n",
              "  CO2 emission estimates (million tons/tons per capita)  \\\n",
              "0                                                 63      \n",
              "1                                                 84      \n",
              "2                                               5900      \n",
              "3                                                -99      \n",
              "4                                                  1      \n",
              "\n",
              "  Energy production, primary (Petajoules)  \\\n",
              "0                                       5   \n",
              "1                                      36   \n",
              "2                                      55   \n",
              "3                                     -99   \n",
              "4                                     119   \n",
              "\n",
              "  Energy supply per capita (Gigajoules)  \\\n",
              "0                             78.2/47.0   \n",
              "1                             94.9/95.2   \n",
              "2                             84.3/81.8   \n",
              "3                           100.0/100.0   \n",
              "4                           100.0/100.0   \n",
              "\n",
              "   Pop. using improved drinking water (urban/rural, %)  \\\n",
              "0                                          45.1/27.0     \n",
              "1                                          95.5/90.2     \n",
              "2                                          89.8/82.2     \n",
              "3                                          62.5/62.5     \n",
              "4                                        100.0/100.0     \n",
              "\n",
              "   Pop. using improved sanitation facilities (urban/rural, %)  \\\n",
              "0                                              21.43            \n",
              "1                                               2.96            \n",
              "2                                               0.05            \n",
              "3                                                -99            \n",
              "4                                                -99            \n",
              "\n",
              "  Net Official Development Assist. received (% of GNI)  \n",
              "0                                                -99    \n",
              "1                                                -99    \n",
              "2                                                -99    \n",
              "3                                                -99    \n",
              "4                                                -99    \n",
              "\n",
              "[5 rows x 50 columns]"
            ],
            "text/html": [
              "\n",
              "  <div id=\"df-8fa8cd71-61b5-4b16-82c6-02d755ab8946\" class=\"colab-df-container\">\n",
              "    <div>\n",
              "<style scoped>\n",
              "    .dataframe tbody tr th:only-of-type {\n",
              "        vertical-align: middle;\n",
              "    }\n",
              "\n",
              "    .dataframe tbody tr th {\n",
              "        vertical-align: top;\n",
              "    }\n",
              "\n",
              "    .dataframe thead th {\n",
              "        text-align: right;\n",
              "    }\n",
              "</style>\n",
              "<table border=\"1\" class=\"dataframe\">\n",
              "  <thead>\n",
              "    <tr style=\"text-align: right;\">\n",
              "      <th></th>\n",
              "      <th>country</th>\n",
              "      <th>Region</th>\n",
              "      <th>Surface area (km2)</th>\n",
              "      <th>Population in thousands (2017)</th>\n",
              "      <th>Population density (per km2, 2017)</th>\n",
              "      <th>Sex ratio (m per 100 f, 2017)</th>\n",
              "      <th>GDP: Gross domestic product (million current US$)</th>\n",
              "      <th>GDP growth rate (annual %, const. 2005 prices)</th>\n",
              "      <th>GDP per capita (current US$)</th>\n",
              "      <th>Economy: Agriculture (% of GVA)</th>\n",
              "      <th>...</th>\n",
              "      <th>Mobile-cellular subscriptions (per 100 inhabitants).1</th>\n",
              "      <th>Individuals using the Internet (per 100 inhabitants)</th>\n",
              "      <th>Threatened species (number)</th>\n",
              "      <th>Forested area (% of land area)</th>\n",
              "      <th>CO2 emission estimates (million tons/tons per capita)</th>\n",
              "      <th>Energy production, primary (Petajoules)</th>\n",
              "      <th>Energy supply per capita (Gigajoules)</th>\n",
              "      <th>Pop. using improved drinking water (urban/rural, %)</th>\n",
              "      <th>Pop. using improved sanitation facilities (urban/rural, %)</th>\n",
              "      <th>Net Official Development Assist. received (% of GNI)</th>\n",
              "    </tr>\n",
              "  </thead>\n",
              "  <tbody>\n",
              "    <tr>\n",
              "      <th>0</th>\n",
              "      <td>Afghanistan</td>\n",
              "      <td>SouthernAsia</td>\n",
              "      <td>652864</td>\n",
              "      <td>35530</td>\n",
              "      <td>54.4</td>\n",
              "      <td>106.3</td>\n",
              "      <td>20270</td>\n",
              "      <td>-2.4</td>\n",
              "      <td>623.2</td>\n",
              "      <td>23.3</td>\n",
              "      <td>...</td>\n",
              "      <td>8.3</td>\n",
              "      <td>42</td>\n",
              "      <td>2.1</td>\n",
              "      <td>9.8/0.3</td>\n",
              "      <td>63</td>\n",
              "      <td>5</td>\n",
              "      <td>78.2/47.0</td>\n",
              "      <td>45.1/27.0</td>\n",
              "      <td>21.43</td>\n",
              "      <td>-99</td>\n",
              "    </tr>\n",
              "    <tr>\n",
              "      <th>1</th>\n",
              "      <td>Albania</td>\n",
              "      <td>SouthernEurope</td>\n",
              "      <td>28748</td>\n",
              "      <td>2930</td>\n",
              "      <td>106.9</td>\n",
              "      <td>101.9</td>\n",
              "      <td>11541</td>\n",
              "      <td>2.6</td>\n",
              "      <td>3984.2</td>\n",
              "      <td>22.4</td>\n",
              "      <td>...</td>\n",
              "      <td>63.3</td>\n",
              "      <td>130</td>\n",
              "      <td>28.2</td>\n",
              "      <td>5.7/2.0</td>\n",
              "      <td>84</td>\n",
              "      <td>36</td>\n",
              "      <td>94.9/95.2</td>\n",
              "      <td>95.5/90.2</td>\n",
              "      <td>2.96</td>\n",
              "      <td>-99</td>\n",
              "    </tr>\n",
              "    <tr>\n",
              "      <th>2</th>\n",
              "      <td>Algeria</td>\n",
              "      <td>NorthernAfrica</td>\n",
              "      <td>2381741</td>\n",
              "      <td>41318</td>\n",
              "      <td>17.3</td>\n",
              "      <td>102.0</td>\n",
              "      <td>164779</td>\n",
              "      <td>3.8</td>\n",
              "      <td>4154.1</td>\n",
              "      <td>12.2</td>\n",
              "      <td>...</td>\n",
              "      <td>38.2</td>\n",
              "      <td>135</td>\n",
              "      <td>0.8</td>\n",
              "      <td>145.4/3.7</td>\n",
              "      <td>5900</td>\n",
              "      <td>55</td>\n",
              "      <td>84.3/81.8</td>\n",
              "      <td>89.8/82.2</td>\n",
              "      <td>0.05</td>\n",
              "      <td>-99</td>\n",
              "    </tr>\n",
              "    <tr>\n",
              "      <th>3</th>\n",
              "      <td>American Samoa</td>\n",
              "      <td>Polynesia</td>\n",
              "      <td>199</td>\n",
              "      <td>56</td>\n",
              "      <td>278.2</td>\n",
              "      <td>103.6</td>\n",
              "      <td>-99</td>\n",
              "      <td>-99</td>\n",
              "      <td>-99.0</td>\n",
              "      <td>-99</td>\n",
              "      <td>...</td>\n",
              "      <td>-99</td>\n",
              "      <td>92</td>\n",
              "      <td>87.9</td>\n",
              "      <td>-99</td>\n",
              "      <td>-99</td>\n",
              "      <td>-99</td>\n",
              "      <td>100.0/100.0</td>\n",
              "      <td>62.5/62.5</td>\n",
              "      <td>-99</td>\n",
              "      <td>-99</td>\n",
              "    </tr>\n",
              "    <tr>\n",
              "      <th>4</th>\n",
              "      <td>Andorra</td>\n",
              "      <td>SouthernEurope</td>\n",
              "      <td>468</td>\n",
              "      <td>77</td>\n",
              "      <td>163.8</td>\n",
              "      <td>102.3</td>\n",
              "      <td>2812</td>\n",
              "      <td>0.8</td>\n",
              "      <td>39896.4</td>\n",
              "      <td>0.5</td>\n",
              "      <td>...</td>\n",
              "      <td>96.9</td>\n",
              "      <td>13</td>\n",
              "      <td>34.0</td>\n",
              "      <td>0.5/6.4</td>\n",
              "      <td>1</td>\n",
              "      <td>119</td>\n",
              "      <td>100.0/100.0</td>\n",
              "      <td>100.0/100.0</td>\n",
              "      <td>-99</td>\n",
              "      <td>-99</td>\n",
              "    </tr>\n",
              "  </tbody>\n",
              "</table>\n",
              "<p>5 rows × 50 columns</p>\n",
              "</div>\n",
              "    <div class=\"colab-df-buttons\">\n",
              "\n",
              "  <div class=\"colab-df-container\">\n",
              "    <button class=\"colab-df-convert\" onclick=\"convertToInteractive('df-8fa8cd71-61b5-4b16-82c6-02d755ab8946')\"\n",
              "            title=\"Convert this dataframe to an interactive table.\"\n",
              "            style=\"display:none;\">\n",
              "\n",
              "  <svg xmlns=\"http://www.w3.org/2000/svg\" height=\"24px\" viewBox=\"0 -960 960 960\">\n",
              "    <path d=\"M120-120v-720h720v720H120Zm60-500h600v-160H180v160Zm220 220h160v-160H400v160Zm0 220h160v-160H400v160ZM180-400h160v-160H180v160Zm440 0h160v-160H620v160ZM180-180h160v-160H180v160Zm440 0h160v-160H620v160Z\"/>\n",
              "  </svg>\n",
              "    </button>\n",
              "\n",
              "  <style>\n",
              "    .colab-df-container {\n",
              "      display:flex;\n",
              "      gap: 12px;\n",
              "    }\n",
              "\n",
              "    .colab-df-convert {\n",
              "      background-color: #E8F0FE;\n",
              "      border: none;\n",
              "      border-radius: 50%;\n",
              "      cursor: pointer;\n",
              "      display: none;\n",
              "      fill: #1967D2;\n",
              "      height: 32px;\n",
              "      padding: 0 0 0 0;\n",
              "      width: 32px;\n",
              "    }\n",
              "\n",
              "    .colab-df-convert:hover {\n",
              "      background-color: #E2EBFA;\n",
              "      box-shadow: 0px 1px 2px rgba(60, 64, 67, 0.3), 0px 1px 3px 1px rgba(60, 64, 67, 0.15);\n",
              "      fill: #174EA6;\n",
              "    }\n",
              "\n",
              "    .colab-df-buttons div {\n",
              "      margin-bottom: 4px;\n",
              "    }\n",
              "\n",
              "    [theme=dark] .colab-df-convert {\n",
              "      background-color: #3B4455;\n",
              "      fill: #D2E3FC;\n",
              "    }\n",
              "\n",
              "    [theme=dark] .colab-df-convert:hover {\n",
              "      background-color: #434B5C;\n",
              "      box-shadow: 0px 1px 3px 1px rgba(0, 0, 0, 0.15);\n",
              "      filter: drop-shadow(0px 1px 2px rgba(0, 0, 0, 0.3));\n",
              "      fill: #FFFFFF;\n",
              "    }\n",
              "  </style>\n",
              "\n",
              "    <script>\n",
              "      const buttonEl =\n",
              "        document.querySelector('#df-8fa8cd71-61b5-4b16-82c6-02d755ab8946 button.colab-df-convert');\n",
              "      buttonEl.style.display =\n",
              "        google.colab.kernel.accessAllowed ? 'block' : 'none';\n",
              "\n",
              "      async function convertToInteractive(key) {\n",
              "        const element = document.querySelector('#df-8fa8cd71-61b5-4b16-82c6-02d755ab8946');\n",
              "        const dataTable =\n",
              "          await google.colab.kernel.invokeFunction('convertToInteractive',\n",
              "                                                    [key], {});\n",
              "        if (!dataTable) return;\n",
              "\n",
              "        const docLinkHtml = 'Like what you see? Visit the ' +\n",
              "          '<a target=\"_blank\" href=https://colab.research.google.com/notebooks/data_table.ipynb>data table notebook</a>'\n",
              "          + ' to learn more about interactive tables.';\n",
              "        element.innerHTML = '';\n",
              "        dataTable['output_type'] = 'display_data';\n",
              "        await google.colab.output.renderOutput(dataTable, element);\n",
              "        const docLink = document.createElement('div');\n",
              "        docLink.innerHTML = docLinkHtml;\n",
              "        element.appendChild(docLink);\n",
              "      }\n",
              "    </script>\n",
              "  </div>\n",
              "\n",
              "\n",
              "<div id=\"df-ae734971-9b3d-4dc5-9938-81dc8f7a488e\">\n",
              "  <button class=\"colab-df-quickchart\" onclick=\"quickchart('df-ae734971-9b3d-4dc5-9938-81dc8f7a488e')\"\n",
              "            title=\"Suggest charts.\"\n",
              "            style=\"display:none;\">\n",
              "\n",
              "<svg xmlns=\"http://www.w3.org/2000/svg\" height=\"24px\"viewBox=\"0 0 24 24\"\n",
              "     width=\"24px\">\n",
              "    <g>\n",
              "        <path d=\"M19 3H5c-1.1 0-2 .9-2 2v14c0 1.1.9 2 2 2h14c1.1 0 2-.9 2-2V5c0-1.1-.9-2-2-2zM9 17H7v-7h2v7zm4 0h-2V7h2v10zm4 0h-2v-4h2v4z\"/>\n",
              "    </g>\n",
              "</svg>\n",
              "  </button>\n",
              "\n",
              "<style>\n",
              "  .colab-df-quickchart {\n",
              "      --bg-color: #E8F0FE;\n",
              "      --fill-color: #1967D2;\n",
              "      --hover-bg-color: #E2EBFA;\n",
              "      --hover-fill-color: #174EA6;\n",
              "      --disabled-fill-color: #AAA;\n",
              "      --disabled-bg-color: #DDD;\n",
              "  }\n",
              "\n",
              "  [theme=dark] .colab-df-quickchart {\n",
              "      --bg-color: #3B4455;\n",
              "      --fill-color: #D2E3FC;\n",
              "      --hover-bg-color: #434B5C;\n",
              "      --hover-fill-color: #FFFFFF;\n",
              "      --disabled-bg-color: #3B4455;\n",
              "      --disabled-fill-color: #666;\n",
              "  }\n",
              "\n",
              "  .colab-df-quickchart {\n",
              "    background-color: var(--bg-color);\n",
              "    border: none;\n",
              "    border-radius: 50%;\n",
              "    cursor: pointer;\n",
              "    display: none;\n",
              "    fill: var(--fill-color);\n",
              "    height: 32px;\n",
              "    padding: 0;\n",
              "    width: 32px;\n",
              "  }\n",
              "\n",
              "  .colab-df-quickchart:hover {\n",
              "    background-color: var(--hover-bg-color);\n",
              "    box-shadow: 0 1px 2px rgba(60, 64, 67, 0.3), 0 1px 3px 1px rgba(60, 64, 67, 0.15);\n",
              "    fill: var(--button-hover-fill-color);\n",
              "  }\n",
              "\n",
              "  .colab-df-quickchart-complete:disabled,\n",
              "  .colab-df-quickchart-complete:disabled:hover {\n",
              "    background-color: var(--disabled-bg-color);\n",
              "    fill: var(--disabled-fill-color);\n",
              "    box-shadow: none;\n",
              "  }\n",
              "\n",
              "  .colab-df-spinner {\n",
              "    border: 2px solid var(--fill-color);\n",
              "    border-color: transparent;\n",
              "    border-bottom-color: var(--fill-color);\n",
              "    animation:\n",
              "      spin 1s steps(1) infinite;\n",
              "  }\n",
              "\n",
              "  @keyframes spin {\n",
              "    0% {\n",
              "      border-color: transparent;\n",
              "      border-bottom-color: var(--fill-color);\n",
              "      border-left-color: var(--fill-color);\n",
              "    }\n",
              "    20% {\n",
              "      border-color: transparent;\n",
              "      border-left-color: var(--fill-color);\n",
              "      border-top-color: var(--fill-color);\n",
              "    }\n",
              "    30% {\n",
              "      border-color: transparent;\n",
              "      border-left-color: var(--fill-color);\n",
              "      border-top-color: var(--fill-color);\n",
              "      border-right-color: var(--fill-color);\n",
              "    }\n",
              "    40% {\n",
              "      border-color: transparent;\n",
              "      border-right-color: var(--fill-color);\n",
              "      border-top-color: var(--fill-color);\n",
              "    }\n",
              "    60% {\n",
              "      border-color: transparent;\n",
              "      border-right-color: var(--fill-color);\n",
              "    }\n",
              "    80% {\n",
              "      border-color: transparent;\n",
              "      border-right-color: var(--fill-color);\n",
              "      border-bottom-color: var(--fill-color);\n",
              "    }\n",
              "    90% {\n",
              "      border-color: transparent;\n",
              "      border-bottom-color: var(--fill-color);\n",
              "    }\n",
              "  }\n",
              "</style>\n",
              "\n",
              "  <script>\n",
              "    async function quickchart(key) {\n",
              "      const quickchartButtonEl =\n",
              "        document.querySelector('#' + key + ' button');\n",
              "      quickchartButtonEl.disabled = true;  // To prevent multiple clicks.\n",
              "      quickchartButtonEl.classList.add('colab-df-spinner');\n",
              "      try {\n",
              "        const charts = await google.colab.kernel.invokeFunction(\n",
              "            'suggestCharts', [key], {});\n",
              "      } catch (error) {\n",
              "        console.error('Error during call to suggestCharts:', error);\n",
              "      }\n",
              "      quickchartButtonEl.classList.remove('colab-df-spinner');\n",
              "      quickchartButtonEl.classList.add('colab-df-quickchart-complete');\n",
              "    }\n",
              "    (() => {\n",
              "      let quickchartButtonEl =\n",
              "        document.querySelector('#df-ae734971-9b3d-4dc5-9938-81dc8f7a488e button');\n",
              "      quickchartButtonEl.style.display =\n",
              "        google.colab.kernel.accessAllowed ? 'block' : 'none';\n",
              "    })();\n",
              "  </script>\n",
              "</div>\n",
              "    </div>\n",
              "  </div>\n"
            ]
          },
          "metadata": {},
          "execution_count": 5
        }
      ]
    },
    {
      "cell_type": "code",
      "source": [
        "data.shape # this is correct\n",
        "# data.shape()-----> error\n",
        "# number of rows and column in my dataset"
      ],
      "metadata": {
        "colab": {
          "base_uri": "https://localhost:8080/"
        },
        "id": "O-TWVlye2DTn",
        "outputId": "80a33ae6-0242-48b5-cb11-461e8776cf28"
      },
      "execution_count": 6,
      "outputs": [
        {
          "output_type": "execute_result",
          "data": {
            "text/plain": [
              "(229, 50)"
            ]
          },
          "metadata": {},
          "execution_count": 6
        }
      ]
    },
    {
      "cell_type": "markdown",
      "source": [
        "we have 229 rows which s very less. and we have 50 columns which  is too many"
      ],
      "metadata": {
        "id": "ZKJ8rEEy21ck"
      }
    },
    {
      "cell_type": "code",
      "source": [
        "# display all columns\n",
        "data.columns"
      ],
      "metadata": {
        "colab": {
          "base_uri": "https://localhost:8080/"
        },
        "id": "k2FhsVLZ2vWj",
        "outputId": "46d61aaf-60b7-4008-d4f0-b09ce32c0ad5"
      },
      "execution_count": 7,
      "outputs": [
        {
          "output_type": "execute_result",
          "data": {
            "text/plain": [
              "Index(['country', 'Region', 'Surface area (km2)',\n",
              "       'Population in thousands (2017)', 'Population density (per km2, 2017)',\n",
              "       'Sex ratio (m per 100 f, 2017)',\n",
              "       'GDP: Gross domestic product (million current US$)',\n",
              "       'GDP growth rate (annual %, const. 2005 prices)',\n",
              "       'GDP per capita (current US$)', 'Economy: Agriculture (% of GVA)',\n",
              "       'Economy: Industry (% of GVA)',\n",
              "       'Economy: Services and other activity (% of GVA)',\n",
              "       'Employment: Agriculture (% of employed)',\n",
              "       'Employment: Industry (% of employed)',\n",
              "       'Employment: Services (% of employed)',\n",
              "       'Unemployment (% of labour force)',\n",
              "       'Labour force participation (female/male pop. %)',\n",
              "       'Agricultural production index (2004-2006=100)',\n",
              "       'Food production index (2004-2006=100)',\n",
              "       'International trade: Exports (million US$)',\n",
              "       'International trade: Imports (million US$)',\n",
              "       'International trade: Balance (million US$)',\n",
              "       'Balance of payments, current account (million US$)',\n",
              "       'Population growth rate (average annual %)',\n",
              "       'Urban population (% of total population)',\n",
              "       'Urban population growth rate (average annual %)',\n",
              "       'Fertility rate, total (live births per woman)',\n",
              "       'Life expectancy at birth (females/males, years)',\n",
              "       'Population age distribution (0-14 / 60+ years, %)',\n",
              "       'International migrant stock (000/% of total pop.)',\n",
              "       'Refugees and others of concern to UNHCR (in thousands)',\n",
              "       'Infant mortality rate (per 1000 live births',\n",
              "       'Health: Total expenditure (% of GDP)',\n",
              "       'Health: Physicians (per 1000 pop.)',\n",
              "       'Education: Government expenditure (% of GDP)',\n",
              "       'Education: Primary gross enrol. ratio (f/m per 100 pop.)',\n",
              "       'Education: Secondary gross enrol. ratio (f/m per 100 pop.)',\n",
              "       'Education: Tertiary gross enrol. ratio (f/m per 100 pop.)',\n",
              "       'Seats held by women in national parliaments %',\n",
              "       'Mobile-cellular subscriptions (per 100 inhabitants)',\n",
              "       'Mobile-cellular subscriptions (per 100 inhabitants).1',\n",
              "       'Individuals using the Internet (per 100 inhabitants)',\n",
              "       'Threatened species (number)', 'Forested area (% of land area)',\n",
              "       'CO2 emission estimates (million tons/tons per capita)',\n",
              "       'Energy production, primary (Petajoules)',\n",
              "       'Energy supply per capita (Gigajoules)',\n",
              "       'Pop. using improved drinking water (urban/rural, %)',\n",
              "       'Pop. using improved sanitation facilities (urban/rural, %)',\n",
              "       'Net Official Development Assist. received (% of GNI)'],\n",
              "      dtype='object')"
            ]
          },
          "metadata": {},
          "execution_count": 7
        }
      ]
    },
    {
      "cell_type": "code",
      "source": [
        "data.dtypes\n",
        "# findng datatypes of all columns"
      ],
      "metadata": {
        "colab": {
          "base_uri": "https://localhost:8080/"
        },
        "id": "GM0hBAzl3Dar",
        "outputId": "1c159050-a147-49a1-f7c6-aafd684fce7b"
      },
      "execution_count": 8,
      "outputs": [
        {
          "output_type": "execute_result",
          "data": {
            "text/plain": [
              "country                                                        object\n",
              "Region                                                         object\n",
              "Surface area (km2)                                             object\n",
              "Population in thousands (2017)                                  int64\n",
              "Population density (per km2, 2017)                            float64\n",
              "Sex ratio (m per 100 f, 2017)                                 float64\n",
              "GDP: Gross domestic product (million current US$)               int64\n",
              "GDP growth rate (annual %, const. 2005 prices)                 object\n",
              "GDP per capita (current US$)                                  float64\n",
              "Economy: Agriculture (% of GVA)                                object\n",
              "Economy: Industry (% of GVA)                                  float64\n",
              "Economy: Services and other activity (% of GVA)               float64\n",
              "Employment: Agriculture (% of employed)                        object\n",
              "Employment: Industry (% of employed)                           object\n",
              "Employment: Services (% of employed)                           object\n",
              "Unemployment (% of labour force)                               object\n",
              "Labour force participation (female/male pop. %)                object\n",
              "Agricultural production index (2004-2006=100)                   int64\n",
              "Food production index (2004-2006=100)                           int64\n",
              "International trade: Exports (million US$)                     object\n",
              "International trade: Imports (million US$)                     object\n",
              "International trade: Balance (million US$)                     object\n",
              "Balance of payments, current account (million US$)             object\n",
              "Population growth rate (average annual %)                      object\n",
              "Urban population (% of total population)                      float64\n",
              "Urban population growth rate (average annual %)                object\n",
              "Fertility rate, total (live births per woman)                  object\n",
              "Life expectancy at birth (females/males, years)                object\n",
              "Population age distribution (0-14 / 60+ years, %)              object\n",
              "International migrant stock (000/% of total pop.)              object\n",
              "Refugees and others of concern to UNHCR (in thousands)         object\n",
              "Infant mortality rate (per 1000 live births                    object\n",
              "Health: Total expenditure (% of GDP)                          float64\n",
              "Health: Physicians (per 1000 pop.)                             object\n",
              "Education: Government expenditure (% of GDP)                   object\n",
              "Education: Primary gross enrol. ratio (f/m per 100 pop.)       object\n",
              "Education: Secondary gross enrol. ratio (f/m per 100 pop.)     object\n",
              "Education: Tertiary gross enrol. ratio (f/m per 100 pop.)      object\n",
              "Seats held by women in national parliaments %                 float64\n",
              "Mobile-cellular subscriptions (per 100 inhabitants)            object\n",
              "Mobile-cellular subscriptions (per 100 inhabitants).1          object\n",
              "Individuals using the Internet (per 100 inhabitants)            int64\n",
              "Threatened species (number)                                    object\n",
              "Forested area (% of land area)                                 object\n",
              "CO2 emission estimates (million tons/tons per capita)           int64\n",
              "Energy production, primary (Petajoules)                         int64\n",
              "Energy supply per capita (Gigajoules)                          object\n",
              "Pop. using improved drinking water (urban/rural, %)            object\n",
              "Pop. using improved sanitation facilities (urban/rural, %)     object\n",
              "Net Official Development Assist. received (% of GNI)            int64\n",
              "dtype: object"
            ]
          },
          "metadata": {},
          "execution_count": 8
        }
      ]
    },
    {
      "cell_type": "code",
      "source": [
        "data.info()\n",
        "# in detail explanation of my dataset\n",
        "# 6 insights"
      ],
      "metadata": {
        "colab": {
          "base_uri": "https://localhost:8080/"
        },
        "id": "shuJNeCS3dyt",
        "outputId": "f4364f63-8ba3-403f-f8c7-25ed45f3dc0d"
      },
      "execution_count": 9,
      "outputs": [
        {
          "output_type": "stream",
          "name": "stdout",
          "text": [
            "<class 'pandas.core.frame.DataFrame'>\n",
            "RangeIndex: 229 entries, 0 to 228\n",
            "Data columns (total 50 columns):\n",
            " #   Column                                                      Non-Null Count  Dtype  \n",
            "---  ------                                                      --------------  -----  \n",
            " 0   country                                                     229 non-null    object \n",
            " 1   Region                                                      229 non-null    object \n",
            " 2   Surface area (km2)                                          229 non-null    object \n",
            " 3   Population in thousands (2017)                              229 non-null    int64  \n",
            " 4   Population density (per km2, 2017)                          229 non-null    float64\n",
            " 5   Sex ratio (m per 100 f, 2017)                               229 non-null    float64\n",
            " 6   GDP: Gross domestic product (million current US$)           229 non-null    int64  \n",
            " 7   GDP growth rate (annual %, const. 2005 prices)              229 non-null    object \n",
            " 8   GDP per capita (current US$)                                229 non-null    float64\n",
            " 9   Economy: Agriculture (% of GVA)                             229 non-null    object \n",
            " 10  Economy: Industry (% of GVA)                                229 non-null    float64\n",
            " 11  Economy: Services and other activity (% of GVA)             229 non-null    float64\n",
            " 12  Employment: Agriculture (% of employed)                     229 non-null    object \n",
            " 13  Employment: Industry (% of employed)                        229 non-null    object \n",
            " 14  Employment: Services (% of employed)                        229 non-null    object \n",
            " 15  Unemployment (% of labour force)                            229 non-null    object \n",
            " 16  Labour force participation (female/male pop. %)             229 non-null    object \n",
            " 17  Agricultural production index (2004-2006=100)               229 non-null    int64  \n",
            " 18  Food production index (2004-2006=100)                       229 non-null    int64  \n",
            " 19  International trade: Exports (million US$)                  229 non-null    object \n",
            " 20  International trade: Imports (million US$)                  229 non-null    object \n",
            " 21  International trade: Balance (million US$)                  229 non-null    object \n",
            " 22  Balance of payments, current account (million US$)          229 non-null    object \n",
            " 23  Population growth rate (average annual %)                   229 non-null    object \n",
            " 24  Urban population (% of total population)                    229 non-null    float64\n",
            " 25  Urban population growth rate (average annual %)             229 non-null    object \n",
            " 26  Fertility rate, total (live births per woman)               229 non-null    object \n",
            " 27  Life expectancy at birth (females/males, years)             229 non-null    object \n",
            " 28  Population age distribution (0-14 / 60+ years, %)           229 non-null    object \n",
            " 29  International migrant stock (000/% of total pop.)           229 non-null    object \n",
            " 30  Refugees and others of concern to UNHCR (in thousands)      229 non-null    object \n",
            " 31  Infant mortality rate (per 1000 live births                 229 non-null    object \n",
            " 32  Health: Total expenditure (% of GDP)                        229 non-null    float64\n",
            " 33  Health: Physicians (per 1000 pop.)                          229 non-null    object \n",
            " 34  Education: Government expenditure (% of GDP)                229 non-null    object \n",
            " 35  Education: Primary gross enrol. ratio (f/m per 100 pop.)    229 non-null    object \n",
            " 36  Education: Secondary gross enrol. ratio (f/m per 100 pop.)  229 non-null    object \n",
            " 37  Education: Tertiary gross enrol. ratio (f/m per 100 pop.)   229 non-null    object \n",
            " 38  Seats held by women in national parliaments %               229 non-null    float64\n",
            " 39  Mobile-cellular subscriptions (per 100 inhabitants)         229 non-null    object \n",
            " 40  Mobile-cellular subscriptions (per 100 inhabitants).1       229 non-null    object \n",
            " 41  Individuals using the Internet (per 100 inhabitants)        229 non-null    int64  \n",
            " 42  Threatened species (number)                                 229 non-null    object \n",
            " 43  Forested area (% of land area)                              229 non-null    object \n",
            " 44  CO2 emission estimates (million tons/tons per capita)       229 non-null    int64  \n",
            " 45  Energy production, primary (Petajoules)                     229 non-null    int64  \n",
            " 46  Energy supply per capita (Gigajoules)                       229 non-null    object \n",
            " 47  Pop. using improved drinking water (urban/rural, %)         229 non-null    object \n",
            " 48  Pop. using improved sanitation facilities (urban/rural, %)  229 non-null    object \n",
            " 49  Net Official Development Assist. received (% of GNI)        229 non-null    int64  \n",
            "dtypes: float64(8), int64(8), object(34)\n",
            "memory usage: 89.6+ KB\n"
          ]
        }
      ]
    },
    {
      "cell_type": "code",
      "source": [
        "# missing value analysis --> concept of dealing with null values\n",
        "# null value --------------> handle it / drop it\n",
        "# handle ------------------> fillna()\n",
        "# drop --------------------> dropna()"
      ],
      "metadata": {
        "id": "mJR2UAhn31bW"
      },
      "execution_count": 10,
      "outputs": []
    },
    {
      "cell_type": "code",
      "source": [
        "# find % of missing values\n",
        "p=data.isnull().sum()*100/len(data)\n",
        "m=pd.DataFrame({'percentage':p})"
      ],
      "metadata": {
        "id": "g-vLvWIN5XIP"
      },
      "execution_count": 15,
      "outputs": []
    },
    {
      "cell_type": "code",
      "source": [
        "m"
      ],
      "metadata": {
        "colab": {
          "base_uri": "https://localhost:8080/",
          "height": 1000
        },
        "id": "2EVa8jWJBSHY",
        "outputId": "902f4034-2588-4756-f63b-5bc04130a3dc"
      },
      "execution_count": 16,
      "outputs": [
        {
          "output_type": "execute_result",
          "data": {
            "text/plain": [
              "                                                    percentage\n",
              "country                                                    0.0\n",
              "Region                                                     0.0\n",
              "Surface area (km2)                                         0.0\n",
              "Population in thousands (2017)                             0.0\n",
              "Population density (per km2, 2017)                         0.0\n",
              "Sex ratio (m per 100 f, 2017)                              0.0\n",
              "GDP: Gross domestic product (million current US$)          0.0\n",
              "GDP growth rate (annual %, const. 2005 prices)             0.0\n",
              "GDP per capita (current US$)                               0.0\n",
              "Economy: Agriculture (% of GVA)                            0.0\n",
              "Economy: Industry (% of GVA)                               0.0\n",
              "Economy: Services and other activity (% of GVA)            0.0\n",
              "Employment: Agriculture (% of employed)                    0.0\n",
              "Employment: Industry (% of employed)                       0.0\n",
              "Employment: Services (% of employed)                       0.0\n",
              "Unemployment (% of labour force)                           0.0\n",
              "Labour force participation (female/male pop. %)            0.0\n",
              "Agricultural production index (2004-2006=100)              0.0\n",
              "Food production index (2004-2006=100)                      0.0\n",
              "International trade: Exports (million US$)                 0.0\n",
              "International trade: Imports (million US$)                 0.0\n",
              "International trade: Balance (million US$)                 0.0\n",
              "Balance of payments, current account (million US$)         0.0\n",
              "Population growth rate (average annual %)                  0.0\n",
              "Urban population (% of total population)                   0.0\n",
              "Urban population growth rate (average annual %)            0.0\n",
              "Fertility rate, total (live births per woman)              0.0\n",
              "Life expectancy at birth (females/males, years)            0.0\n",
              "Population age distribution (0-14 / 60+ years, %)          0.0\n",
              "International migrant stock (000/% of total pop.)          0.0\n",
              "Refugees and others of concern to UNHCR (in tho...         0.0\n",
              "Infant mortality rate (per 1000 live births                0.0\n",
              "Health: Total expenditure (% of GDP)                       0.0\n",
              "Health: Physicians (per 1000 pop.)                         0.0\n",
              "Education: Government expenditure (% of GDP)               0.0\n",
              "Education: Primary gross enrol. ratio (f/m per ...         0.0\n",
              "Education: Secondary gross enrol. ratio (f/m pe...         0.0\n",
              "Education: Tertiary gross enrol. ratio (f/m per...         0.0\n",
              "Seats held by women in national parliaments %              0.0\n",
              "Mobile-cellular subscriptions (per 100 inhabita...         0.0\n",
              "Mobile-cellular subscriptions (per 100 inhabita...         0.0\n",
              "Individuals using the Internet (per 100 inhabit...         0.0\n",
              "Threatened species (number)                                0.0\n",
              "Forested area (% of land area)                             0.0\n",
              "CO2 emission estimates (million tons/tons per c...         0.0\n",
              "Energy production, primary (Petajoules)                    0.0\n",
              "Energy supply per capita (Gigajoules)                      0.0\n",
              "Pop. using improved drinking water (urban/rural...         0.0\n",
              "Pop. using improved sanitation facilities (urba...         0.0\n",
              "Net Official Development Assist. received (% of...         0.0"
            ],
            "text/html": [
              "\n",
              "  <div id=\"df-0e1dc25a-df37-4ffd-85d8-d9e93c6ff2b9\" class=\"colab-df-container\">\n",
              "    <div>\n",
              "<style scoped>\n",
              "    .dataframe tbody tr th:only-of-type {\n",
              "        vertical-align: middle;\n",
              "    }\n",
              "\n",
              "    .dataframe tbody tr th {\n",
              "        vertical-align: top;\n",
              "    }\n",
              "\n",
              "    .dataframe thead th {\n",
              "        text-align: right;\n",
              "    }\n",
              "</style>\n",
              "<table border=\"1\" class=\"dataframe\">\n",
              "  <thead>\n",
              "    <tr style=\"text-align: right;\">\n",
              "      <th></th>\n",
              "      <th>percentage</th>\n",
              "    </tr>\n",
              "  </thead>\n",
              "  <tbody>\n",
              "    <tr>\n",
              "      <th>country</th>\n",
              "      <td>0.0</td>\n",
              "    </tr>\n",
              "    <tr>\n",
              "      <th>Region</th>\n",
              "      <td>0.0</td>\n",
              "    </tr>\n",
              "    <tr>\n",
              "      <th>Surface area (km2)</th>\n",
              "      <td>0.0</td>\n",
              "    </tr>\n",
              "    <tr>\n",
              "      <th>Population in thousands (2017)</th>\n",
              "      <td>0.0</td>\n",
              "    </tr>\n",
              "    <tr>\n",
              "      <th>Population density (per km2, 2017)</th>\n",
              "      <td>0.0</td>\n",
              "    </tr>\n",
              "    <tr>\n",
              "      <th>Sex ratio (m per 100 f, 2017)</th>\n",
              "      <td>0.0</td>\n",
              "    </tr>\n",
              "    <tr>\n",
              "      <th>GDP: Gross domestic product (million current US$)</th>\n",
              "      <td>0.0</td>\n",
              "    </tr>\n",
              "    <tr>\n",
              "      <th>GDP growth rate (annual %, const. 2005 prices)</th>\n",
              "      <td>0.0</td>\n",
              "    </tr>\n",
              "    <tr>\n",
              "      <th>GDP per capita (current US$)</th>\n",
              "      <td>0.0</td>\n",
              "    </tr>\n",
              "    <tr>\n",
              "      <th>Economy: Agriculture (% of GVA)</th>\n",
              "      <td>0.0</td>\n",
              "    </tr>\n",
              "    <tr>\n",
              "      <th>Economy: Industry (% of GVA)</th>\n",
              "      <td>0.0</td>\n",
              "    </tr>\n",
              "    <tr>\n",
              "      <th>Economy: Services and other activity (% of GVA)</th>\n",
              "      <td>0.0</td>\n",
              "    </tr>\n",
              "    <tr>\n",
              "      <th>Employment: Agriculture (% of employed)</th>\n",
              "      <td>0.0</td>\n",
              "    </tr>\n",
              "    <tr>\n",
              "      <th>Employment: Industry (% of employed)</th>\n",
              "      <td>0.0</td>\n",
              "    </tr>\n",
              "    <tr>\n",
              "      <th>Employment: Services (% of employed)</th>\n",
              "      <td>0.0</td>\n",
              "    </tr>\n",
              "    <tr>\n",
              "      <th>Unemployment (% of labour force)</th>\n",
              "      <td>0.0</td>\n",
              "    </tr>\n",
              "    <tr>\n",
              "      <th>Labour force participation (female/male pop. %)</th>\n",
              "      <td>0.0</td>\n",
              "    </tr>\n",
              "    <tr>\n",
              "      <th>Agricultural production index (2004-2006=100)</th>\n",
              "      <td>0.0</td>\n",
              "    </tr>\n",
              "    <tr>\n",
              "      <th>Food production index (2004-2006=100)</th>\n",
              "      <td>0.0</td>\n",
              "    </tr>\n",
              "    <tr>\n",
              "      <th>International trade: Exports (million US$)</th>\n",
              "      <td>0.0</td>\n",
              "    </tr>\n",
              "    <tr>\n",
              "      <th>International trade: Imports (million US$)</th>\n",
              "      <td>0.0</td>\n",
              "    </tr>\n",
              "    <tr>\n",
              "      <th>International trade: Balance (million US$)</th>\n",
              "      <td>0.0</td>\n",
              "    </tr>\n",
              "    <tr>\n",
              "      <th>Balance of payments, current account (million US$)</th>\n",
              "      <td>0.0</td>\n",
              "    </tr>\n",
              "    <tr>\n",
              "      <th>Population growth rate (average annual %)</th>\n",
              "      <td>0.0</td>\n",
              "    </tr>\n",
              "    <tr>\n",
              "      <th>Urban population (% of total population)</th>\n",
              "      <td>0.0</td>\n",
              "    </tr>\n",
              "    <tr>\n",
              "      <th>Urban population growth rate (average annual %)</th>\n",
              "      <td>0.0</td>\n",
              "    </tr>\n",
              "    <tr>\n",
              "      <th>Fertility rate, total (live births per woman)</th>\n",
              "      <td>0.0</td>\n",
              "    </tr>\n",
              "    <tr>\n",
              "      <th>Life expectancy at birth (females/males, years)</th>\n",
              "      <td>0.0</td>\n",
              "    </tr>\n",
              "    <tr>\n",
              "      <th>Population age distribution (0-14 / 60+ years, %)</th>\n",
              "      <td>0.0</td>\n",
              "    </tr>\n",
              "    <tr>\n",
              "      <th>International migrant stock (000/% of total pop.)</th>\n",
              "      <td>0.0</td>\n",
              "    </tr>\n",
              "    <tr>\n",
              "      <th>Refugees and others of concern to UNHCR (in thousands)</th>\n",
              "      <td>0.0</td>\n",
              "    </tr>\n",
              "    <tr>\n",
              "      <th>Infant mortality rate (per 1000 live births</th>\n",
              "      <td>0.0</td>\n",
              "    </tr>\n",
              "    <tr>\n",
              "      <th>Health: Total expenditure (% of GDP)</th>\n",
              "      <td>0.0</td>\n",
              "    </tr>\n",
              "    <tr>\n",
              "      <th>Health: Physicians (per 1000 pop.)</th>\n",
              "      <td>0.0</td>\n",
              "    </tr>\n",
              "    <tr>\n",
              "      <th>Education: Government expenditure (% of GDP)</th>\n",
              "      <td>0.0</td>\n",
              "    </tr>\n",
              "    <tr>\n",
              "      <th>Education: Primary gross enrol. ratio (f/m per 100 pop.)</th>\n",
              "      <td>0.0</td>\n",
              "    </tr>\n",
              "    <tr>\n",
              "      <th>Education: Secondary gross enrol. ratio (f/m per 100 pop.)</th>\n",
              "      <td>0.0</td>\n",
              "    </tr>\n",
              "    <tr>\n",
              "      <th>Education: Tertiary gross enrol. ratio (f/m per 100 pop.)</th>\n",
              "      <td>0.0</td>\n",
              "    </tr>\n",
              "    <tr>\n",
              "      <th>Seats held by women in national parliaments %</th>\n",
              "      <td>0.0</td>\n",
              "    </tr>\n",
              "    <tr>\n",
              "      <th>Mobile-cellular subscriptions (per 100 inhabitants)</th>\n",
              "      <td>0.0</td>\n",
              "    </tr>\n",
              "    <tr>\n",
              "      <th>Mobile-cellular subscriptions (per 100 inhabitants).1</th>\n",
              "      <td>0.0</td>\n",
              "    </tr>\n",
              "    <tr>\n",
              "      <th>Individuals using the Internet (per 100 inhabitants)</th>\n",
              "      <td>0.0</td>\n",
              "    </tr>\n",
              "    <tr>\n",
              "      <th>Threatened species (number)</th>\n",
              "      <td>0.0</td>\n",
              "    </tr>\n",
              "    <tr>\n",
              "      <th>Forested area (% of land area)</th>\n",
              "      <td>0.0</td>\n",
              "    </tr>\n",
              "    <tr>\n",
              "      <th>CO2 emission estimates (million tons/tons per capita)</th>\n",
              "      <td>0.0</td>\n",
              "    </tr>\n",
              "    <tr>\n",
              "      <th>Energy production, primary (Petajoules)</th>\n",
              "      <td>0.0</td>\n",
              "    </tr>\n",
              "    <tr>\n",
              "      <th>Energy supply per capita (Gigajoules)</th>\n",
              "      <td>0.0</td>\n",
              "    </tr>\n",
              "    <tr>\n",
              "      <th>Pop. using improved drinking water (urban/rural, %)</th>\n",
              "      <td>0.0</td>\n",
              "    </tr>\n",
              "    <tr>\n",
              "      <th>Pop. using improved sanitation facilities (urban/rural, %)</th>\n",
              "      <td>0.0</td>\n",
              "    </tr>\n",
              "    <tr>\n",
              "      <th>Net Official Development Assist. received (% of GNI)</th>\n",
              "      <td>0.0</td>\n",
              "    </tr>\n",
              "  </tbody>\n",
              "</table>\n",
              "</div>\n",
              "    <div class=\"colab-df-buttons\">\n",
              "\n",
              "  <div class=\"colab-df-container\">\n",
              "    <button class=\"colab-df-convert\" onclick=\"convertToInteractive('df-0e1dc25a-df37-4ffd-85d8-d9e93c6ff2b9')\"\n",
              "            title=\"Convert this dataframe to an interactive table.\"\n",
              "            style=\"display:none;\">\n",
              "\n",
              "  <svg xmlns=\"http://www.w3.org/2000/svg\" height=\"24px\" viewBox=\"0 -960 960 960\">\n",
              "    <path d=\"M120-120v-720h720v720H120Zm60-500h600v-160H180v160Zm220 220h160v-160H400v160Zm0 220h160v-160H400v160ZM180-400h160v-160H180v160Zm440 0h160v-160H620v160ZM180-180h160v-160H180v160Zm440 0h160v-160H620v160Z\"/>\n",
              "  </svg>\n",
              "    </button>\n",
              "\n",
              "  <style>\n",
              "    .colab-df-container {\n",
              "      display:flex;\n",
              "      gap: 12px;\n",
              "    }\n",
              "\n",
              "    .colab-df-convert {\n",
              "      background-color: #E8F0FE;\n",
              "      border: none;\n",
              "      border-radius: 50%;\n",
              "      cursor: pointer;\n",
              "      display: none;\n",
              "      fill: #1967D2;\n",
              "      height: 32px;\n",
              "      padding: 0 0 0 0;\n",
              "      width: 32px;\n",
              "    }\n",
              "\n",
              "    .colab-df-convert:hover {\n",
              "      background-color: #E2EBFA;\n",
              "      box-shadow: 0px 1px 2px rgba(60, 64, 67, 0.3), 0px 1px 3px 1px rgba(60, 64, 67, 0.15);\n",
              "      fill: #174EA6;\n",
              "    }\n",
              "\n",
              "    .colab-df-buttons div {\n",
              "      margin-bottom: 4px;\n",
              "    }\n",
              "\n",
              "    [theme=dark] .colab-df-convert {\n",
              "      background-color: #3B4455;\n",
              "      fill: #D2E3FC;\n",
              "    }\n",
              "\n",
              "    [theme=dark] .colab-df-convert:hover {\n",
              "      background-color: #434B5C;\n",
              "      box-shadow: 0px 1px 3px 1px rgba(0, 0, 0, 0.15);\n",
              "      filter: drop-shadow(0px 1px 2px rgba(0, 0, 0, 0.3));\n",
              "      fill: #FFFFFF;\n",
              "    }\n",
              "  </style>\n",
              "\n",
              "    <script>\n",
              "      const buttonEl =\n",
              "        document.querySelector('#df-0e1dc25a-df37-4ffd-85d8-d9e93c6ff2b9 button.colab-df-convert');\n",
              "      buttonEl.style.display =\n",
              "        google.colab.kernel.accessAllowed ? 'block' : 'none';\n",
              "\n",
              "      async function convertToInteractive(key) {\n",
              "        const element = document.querySelector('#df-0e1dc25a-df37-4ffd-85d8-d9e93c6ff2b9');\n",
              "        const dataTable =\n",
              "          await google.colab.kernel.invokeFunction('convertToInteractive',\n",
              "                                                    [key], {});\n",
              "        if (!dataTable) return;\n",
              "\n",
              "        const docLinkHtml = 'Like what you see? Visit the ' +\n",
              "          '<a target=\"_blank\" href=https://colab.research.google.com/notebooks/data_table.ipynb>data table notebook</a>'\n",
              "          + ' to learn more about interactive tables.';\n",
              "        element.innerHTML = '';\n",
              "        dataTable['output_type'] = 'display_data';\n",
              "        await google.colab.output.renderOutput(dataTable, element);\n",
              "        const docLink = document.createElement('div');\n",
              "        docLink.innerHTML = docLinkHtml;\n",
              "        element.appendChild(docLink);\n",
              "      }\n",
              "    </script>\n",
              "  </div>\n",
              "\n",
              "\n",
              "<div id=\"df-94dbd83d-bbf7-4960-a76c-a34b73eef91c\">\n",
              "  <button class=\"colab-df-quickchart\" onclick=\"quickchart('df-94dbd83d-bbf7-4960-a76c-a34b73eef91c')\"\n",
              "            title=\"Suggest charts.\"\n",
              "            style=\"display:none;\">\n",
              "\n",
              "<svg xmlns=\"http://www.w3.org/2000/svg\" height=\"24px\"viewBox=\"0 0 24 24\"\n",
              "     width=\"24px\">\n",
              "    <g>\n",
              "        <path d=\"M19 3H5c-1.1 0-2 .9-2 2v14c0 1.1.9 2 2 2h14c1.1 0 2-.9 2-2V5c0-1.1-.9-2-2-2zM9 17H7v-7h2v7zm4 0h-2V7h2v10zm4 0h-2v-4h2v4z\"/>\n",
              "    </g>\n",
              "</svg>\n",
              "  </button>\n",
              "\n",
              "<style>\n",
              "  .colab-df-quickchart {\n",
              "      --bg-color: #E8F0FE;\n",
              "      --fill-color: #1967D2;\n",
              "      --hover-bg-color: #E2EBFA;\n",
              "      --hover-fill-color: #174EA6;\n",
              "      --disabled-fill-color: #AAA;\n",
              "      --disabled-bg-color: #DDD;\n",
              "  }\n",
              "\n",
              "  [theme=dark] .colab-df-quickchart {\n",
              "      --bg-color: #3B4455;\n",
              "      --fill-color: #D2E3FC;\n",
              "      --hover-bg-color: #434B5C;\n",
              "      --hover-fill-color: #FFFFFF;\n",
              "      --disabled-bg-color: #3B4455;\n",
              "      --disabled-fill-color: #666;\n",
              "  }\n",
              "\n",
              "  .colab-df-quickchart {\n",
              "    background-color: var(--bg-color);\n",
              "    border: none;\n",
              "    border-radius: 50%;\n",
              "    cursor: pointer;\n",
              "    display: none;\n",
              "    fill: var(--fill-color);\n",
              "    height: 32px;\n",
              "    padding: 0;\n",
              "    width: 32px;\n",
              "  }\n",
              "\n",
              "  .colab-df-quickchart:hover {\n",
              "    background-color: var(--hover-bg-color);\n",
              "    box-shadow: 0 1px 2px rgba(60, 64, 67, 0.3), 0 1px 3px 1px rgba(60, 64, 67, 0.15);\n",
              "    fill: var(--button-hover-fill-color);\n",
              "  }\n",
              "\n",
              "  .colab-df-quickchart-complete:disabled,\n",
              "  .colab-df-quickchart-complete:disabled:hover {\n",
              "    background-color: var(--disabled-bg-color);\n",
              "    fill: var(--disabled-fill-color);\n",
              "    box-shadow: none;\n",
              "  }\n",
              "\n",
              "  .colab-df-spinner {\n",
              "    border: 2px solid var(--fill-color);\n",
              "    border-color: transparent;\n",
              "    border-bottom-color: var(--fill-color);\n",
              "    animation:\n",
              "      spin 1s steps(1) infinite;\n",
              "  }\n",
              "\n",
              "  @keyframes spin {\n",
              "    0% {\n",
              "      border-color: transparent;\n",
              "      border-bottom-color: var(--fill-color);\n",
              "      border-left-color: var(--fill-color);\n",
              "    }\n",
              "    20% {\n",
              "      border-color: transparent;\n",
              "      border-left-color: var(--fill-color);\n",
              "      border-top-color: var(--fill-color);\n",
              "    }\n",
              "    30% {\n",
              "      border-color: transparent;\n",
              "      border-left-color: var(--fill-color);\n",
              "      border-top-color: var(--fill-color);\n",
              "      border-right-color: var(--fill-color);\n",
              "    }\n",
              "    40% {\n",
              "      border-color: transparent;\n",
              "      border-right-color: var(--fill-color);\n",
              "      border-top-color: var(--fill-color);\n",
              "    }\n",
              "    60% {\n",
              "      border-color: transparent;\n",
              "      border-right-color: var(--fill-color);\n",
              "    }\n",
              "    80% {\n",
              "      border-color: transparent;\n",
              "      border-right-color: var(--fill-color);\n",
              "      border-bottom-color: var(--fill-color);\n",
              "    }\n",
              "    90% {\n",
              "      border-color: transparent;\n",
              "      border-bottom-color: var(--fill-color);\n",
              "    }\n",
              "  }\n",
              "</style>\n",
              "\n",
              "  <script>\n",
              "    async function quickchart(key) {\n",
              "      const quickchartButtonEl =\n",
              "        document.querySelector('#' + key + ' button');\n",
              "      quickchartButtonEl.disabled = true;  // To prevent multiple clicks.\n",
              "      quickchartButtonEl.classList.add('colab-df-spinner');\n",
              "      try {\n",
              "        const charts = await google.colab.kernel.invokeFunction(\n",
              "            'suggestCharts', [key], {});\n",
              "      } catch (error) {\n",
              "        console.error('Error during call to suggestCharts:', error);\n",
              "      }\n",
              "      quickchartButtonEl.classList.remove('colab-df-spinner');\n",
              "      quickchartButtonEl.classList.add('colab-df-quickchart-complete');\n",
              "    }\n",
              "    (() => {\n",
              "      let quickchartButtonEl =\n",
              "        document.querySelector('#df-94dbd83d-bbf7-4960-a76c-a34b73eef91c button');\n",
              "      quickchartButtonEl.style.display =\n",
              "        google.colab.kernel.accessAllowed ? 'block' : 'none';\n",
              "    })();\n",
              "  </script>\n",
              "</div>\n",
              "    </div>\n",
              "  </div>\n"
            ]
          },
          "metadata": {},
          "execution_count": 16
        }
      ]
    },
    {
      "cell_type": "code",
      "source": [
        "data['Population in thousands (2017)'].value_counts()"
      ],
      "metadata": {
        "colab": {
          "base_uri": "https://localhost:8080/"
        },
        "id": "GiAzzuILBSbn",
        "outputId": "47baada6-6700-4997-e026-7bb7d6f2bd00"
      },
      "execution_count": 18,
      "outputs": [
        {
          "output_type": "execute_result",
          "data": {
            "text/plain": [
              "2890     2\n",
              "55       2\n",
              "11       2\n",
              "56       2\n",
              "276      2\n",
              "        ..\n",
              "82114    1\n",
              "28834    1\n",
              "11160    1\n",
              "450      1\n",
              "16530    1\n",
              "Name: Population in thousands (2017), Length: 218, dtype: int64"
            ]
          },
          "metadata": {},
          "execution_count": 18
        }
      ]
    },
    {
      "cell_type": "code",
      "source": [
        "data['Population in thousands (2017)'].mean()"
      ],
      "metadata": {
        "colab": {
          "base_uri": "https://localhost:8080/"
        },
        "id": "pNpXV-YGFs2R",
        "outputId": "9339b95b-55a7-4a20-dee8-b911093a9a2e"
      },
      "execution_count": 19,
      "outputs": [
        {
          "output_type": "execute_result",
          "data": {
            "text/plain": [
              "32756.794759825327"
            ]
          },
          "metadata": {},
          "execution_count": 19
        }
      ]
    },
    {
      "cell_type": "code",
      "source": [
        "data['Population in thousands (2017)'].median()"
      ],
      "metadata": {
        "colab": {
          "base_uri": "https://localhost:8080/"
        },
        "id": "QrQaiiw3F89-",
        "outputId": "d10ac6a5-ef0a-4dd4-c2cd-be6a9f216285"
      },
      "execution_count": 20,
      "outputs": [
        {
          "output_type": "execute_result",
          "data": {
            "text/plain": [
              "5448.0"
            ]
          },
          "metadata": {},
          "execution_count": 20
        }
      ]
    },
    {
      "cell_type": "code",
      "source": [
        "data['country'].mode()"
      ],
      "metadata": {
        "colab": {
          "base_uri": "https://localhost:8080/"
        },
        "id": "YYXQVOH1F_pj",
        "outputId": "8052a925-9054-4ff7-8a14-5d50789139f5"
      },
      "execution_count": 22,
      "outputs": [
        {
          "output_type": "execute_result",
          "data": {
            "text/plain": [
              "0                    Afghanistan\n",
              "1                        Albania\n",
              "2                        Algeria\n",
              "3                 American Samoa\n",
              "4                        Andorra\n",
              "                 ...            \n",
              "224    Wallis and Futuna Islands\n",
              "225               Western Sahara\n",
              "226                        Yemen\n",
              "227                       Zambia\n",
              "228                     Zimbabwe\n",
              "Name: country, Length: 229, dtype: object"
            ]
          },
          "metadata": {},
          "execution_count": 22
        }
      ]
    },
    {
      "cell_type": "code",
      "source": [
        "data['country'].mode()[225]"
      ],
      "metadata": {
        "colab": {
          "base_uri": "https://localhost:8080/",
          "height": 36
        },
        "id": "jTVoOlAMGXXv",
        "outputId": "29977e0f-e85c-4130-ca77-de3181fa2c2e"
      },
      "execution_count": 24,
      "outputs": [
        {
          "output_type": "execute_result",
          "data": {
            "text/plain": [
              "'Western Sahara'"
            ],
            "application/vnd.google.colaboratory.intrinsic+json": {
              "type": "string"
            }
          },
          "metadata": {},
          "execution_count": 24
        }
      ]
    },
    {
      "cell_type": "code",
      "source": [
        "# count of unique value\n",
        "data['Population in thousands (2017)'].nunique()"
      ],
      "metadata": {
        "colab": {
          "base_uri": "https://localhost:8080/"
        },
        "id": "hqEQbnBJGqky",
        "outputId": "0fe98d96-399e-416c-d014-82fec59cac69"
      },
      "execution_count": 25,
      "outputs": [
        {
          "output_type": "execute_result",
          "data": {
            "text/plain": [
              "218"
            ]
          },
          "metadata": {},
          "execution_count": 25
        }
      ]
    },
    {
      "cell_type": "code",
      "source": [
        "data['Population in thousands (2017)'].std()"
      ],
      "metadata": {
        "colab": {
          "base_uri": "https://localhost:8080/"
        },
        "id": "L5nkpcbeG9gW",
        "outputId": "227bb44c-7c9b-4c8e-e6ff-2cdcb9ed812d"
      },
      "execution_count": 26,
      "outputs": [
        {
          "output_type": "execute_result",
          "data": {
            "text/plain": [
              "133275.0799135131"
            ]
          },
          "metadata": {},
          "execution_count": 26
        }
      ]
    },
    {
      "cell_type": "code",
      "source": [
        "data['Population in thousands (2017)'].var()"
      ],
      "metadata": {
        "colab": {
          "base_uri": "https://localhost:8080/"
        },
        "id": "60usuD3nHDrx",
        "outputId": "983fc5e1-4286-46af-a62e-c74bbd189a74"
      },
      "execution_count": 27,
      "outputs": [
        {
          "output_type": "execute_result",
          "data": {
            "text/plain": [
              "17762246925.953304"
            ]
          },
          "metadata": {},
          "execution_count": 27
        }
      ]
    },
    {
      "cell_type": "code",
      "source": [
        "q3=np.percentile(data['Population in thousands (2017)'],75)\n",
        "q2=np.percentile(data['Population in thousands (2017)'],50)\n",
        "q1=np.percentile(data['Population in thousands (2017)'],25)"
      ],
      "metadata": {
        "id": "N4Wgk-EzHGDM"
      },
      "execution_count": 28,
      "outputs": []
    },
    {
      "cell_type": "code",
      "source": [
        "q1"
      ],
      "metadata": {
        "colab": {
          "base_uri": "https://localhost:8080/"
        },
        "id": "pIbn5Ye8HdU-",
        "outputId": "71f32536-2dce-4a42-8451-edcc5731f538"
      },
      "execution_count": 29,
      "outputs": [
        {
          "output_type": "execute_result",
          "data": {
            "text/plain": [
              "431.0"
            ]
          },
          "metadata": {},
          "execution_count": 29
        }
      ]
    },
    {
      "cell_type": "code",
      "source": [
        "q2"
      ],
      "metadata": {
        "colab": {
          "base_uri": "https://localhost:8080/"
        },
        "id": "pxhpsoJKHeZc",
        "outputId": "a4867c33-a74e-445a-f3ac-fb64135eee75"
      },
      "execution_count": 30,
      "outputs": [
        {
          "output_type": "execute_result",
          "data": {
            "text/plain": [
              "5448.0"
            ]
          },
          "metadata": {},
          "execution_count": 30
        }
      ]
    },
    {
      "cell_type": "code",
      "source": [
        "q3"
      ],
      "metadata": {
        "colab": {
          "base_uri": "https://localhost:8080/"
        },
        "id": "KF73qGzzHfCs",
        "outputId": "3f0d1a06-37e2-4c37-ddfe-c97599f2a055"
      },
      "execution_count": 31,
      "outputs": [
        {
          "output_type": "execute_result",
          "data": {
            "text/plain": [
              "19193.0"
            ]
          },
          "metadata": {},
          "execution_count": 31
        }
      ]
    },
    {
      "cell_type": "code",
      "source": [
        "# data.quantile(0.25) --> alternative"
      ],
      "metadata": {
        "id": "hqBpYHVvHfsX"
      },
      "execution_count": 32,
      "outputs": []
    },
    {
      "cell_type": "code",
      "source": [
        "import seaborn as sns\n",
        "sns.distplot(data['Population in thousands (2017)'])"
      ],
      "metadata": {
        "colab": {
          "base_uri": "https://localhost:8080/",
          "height": 673
        },
        "id": "ShAWR8gzHqNp",
        "outputId": "f439d2b4-39e5-44d1-ca2e-75fa81c5d2f1"
      },
      "execution_count": 34,
      "outputs": [
        {
          "output_type": "stream",
          "name": "stderr",
          "text": [
            "<ipython-input-34-df344855fb2f>:2: UserWarning: \n",
            "\n",
            "`distplot` is a deprecated function and will be removed in seaborn v0.14.0.\n",
            "\n",
            "Please adapt your code to use either `displot` (a figure-level function with\n",
            "similar flexibility) or `histplot` (an axes-level function for histograms).\n",
            "\n",
            "For a guide to updating your code to use the new functions, please see\n",
            "https://gist.github.com/mwaskom/de44147ed2974457ad6372750bbe5751\n",
            "\n",
            "  sns.distplot(data['Population in thousands (2017)'])\n"
          ]
        },
        {
          "output_type": "execute_result",
          "data": {
            "text/plain": [
              "<Axes: xlabel='Population in thousands (2017)', ylabel='Density'>"
            ]
          },
          "metadata": {},
          "execution_count": 34
        },
        {
          "output_type": "display_data",
          "data": {
            "text/plain": [
              "<Figure size 640x480 with 1 Axes>"
            ],
            "image/png": "[encoded data removed]"
          },
          "metadata": {}
        }
      ]
    },
    {
      "cell_type": "code",
      "source": [
        "data.columns"
      ],
      "metadata": {
        "colab": {
          "base_uri": "https://localhost:8080/"
        },
        "id": "QJCGsVwfIUzL",
        "outputId": "32bcff8b-7784-4208-e33b-65b269fb1fd3"
      },
      "execution_count": 35,
      "outputs": [
        {
          "output_type": "execute_result",
          "data": {
            "text/plain": [
              "Index(['country', 'Region', 'Surface area (km2)',\n",
              "       'Population in thousands (2017)', 'Population density (per km2, 2017)',\n",
              "       'Sex ratio (m per 100 f, 2017)',\n",
              "       'GDP: Gross domestic product (million current US$)',\n",
              "       'GDP growth rate (annual %, const. 2005 prices)',\n",
              "       'GDP per capita (current US$)', 'Economy: Agriculture (% of GVA)',\n",
              "       'Economy: Industry (% of GVA)',\n",
              "       'Economy: Services and other activity (% of GVA)',\n",
              "       'Employment: Agriculture (% of employed)',\n",
              "       'Employment: Industry (% of employed)',\n",
              "       'Employment: Services (% of employed)',\n",
              "       'Unemployment (% of labour force)',\n",
              "       'Labour force participation (female/male pop. %)',\n",
              "       'Agricultural production index (2004-2006=100)',\n",
              "       'Food production index (2004-2006=100)',\n",
              "       'International trade: Exports (million US$)',\n",
              "       'International trade: Imports (million US$)',\n",
              "       'International trade: Balance (million US$)',\n",
              "       'Balance of payments, current account (million US$)',\n",
              "       'Population growth rate (average annual %)',\n",
              "       'Urban population (% of total population)',\n",
              "       'Urban population growth rate (average annual %)',\n",
              "       'Fertility rate, total (live births per woman)',\n",
              "       'Life expectancy at birth (females/males, years)',\n",
              "       'Population age distribution (0-14 / 60+ years, %)',\n",
              "       'International migrant stock (000/% of total pop.)',\n",
              "       'Refugees and others of concern to UNHCR (in thousands)',\n",
              "       'Infant mortality rate (per 1000 live births',\n",
              "       'Health: Total expenditure (% of GDP)',\n",
              "       'Health: Physicians (per 1000 pop.)',\n",
              "       'Education: Government expenditure (% of GDP)',\n",
              "       'Education: Primary gross enrol. ratio (f/m per 100 pop.)',\n",
              "       'Education: Secondary gross enrol. ratio (f/m per 100 pop.)',\n",
              "       'Education: Tertiary gross enrol. ratio (f/m per 100 pop.)',\n",
              "       'Seats held by women in national parliaments %',\n",
              "       'Mobile-cellular subscriptions (per 100 inhabitants)',\n",
              "       'Mobile-cellular subscriptions (per 100 inhabitants).1',\n",
              "       'Individuals using the Internet (per 100 inhabitants)',\n",
              "       'Threatened species (number)', 'Forested area (% of land area)',\n",
              "       'CO2 emission estimates (million tons/tons per capita)',\n",
              "       'Energy production, primary (Petajoules)',\n",
              "       'Energy supply per capita (Gigajoules)',\n",
              "       'Pop. using improved drinking water (urban/rural, %)',\n",
              "       'Pop. using improved sanitation facilities (urban/rural, %)',\n",
              "       'Net Official Development Assist. received (% of GNI)'],\n",
              "      dtype='object')"
            ]
          },
          "metadata": {},
          "execution_count": 35
        }
      ]
    },
    {
      "cell_type": "code",
      "source": [
        "\n",
        "sns.distplot(data['Agricultural production index (2004-2006=100)'])"
      ],
      "metadata": {
        "colab": {
          "base_uri": "https://localhost:8080/",
          "height": 657
        },
        "id": "HnQQPzQsJusJ",
        "outputId": "1ee1f436-f47a-49db-b972-ad1d27ab0d4f"
      },
      "execution_count": 36,
      "outputs": [
        {
          "output_type": "stream",
          "name": "stderr",
          "text": [
            "<ipython-input-36-d8763b9412f8>:1: UserWarning: \n",
            "\n",
            "`distplot` is a deprecated function and will be removed in seaborn v0.14.0.\n",
            "\n",
            "Please adapt your code to use either `displot` (a figure-level function with\n",
            "similar flexibility) or `histplot` (an axes-level function for histograms).\n",
            "\n",
            "For a guide to updating your code to use the new functions, please see\n",
            "https://gist.github.com/mwaskom/de44147ed2974457ad6372750bbe5751\n",
            "\n",
            "  sns.distplot(data['Agricultural production index (2004-2006=100)'])\n"
          ]
        },
        {
          "output_type": "execute_result",
          "data": {
            "text/plain": [
              "<Axes: xlabel='Agricultural production index (2004-2006=100)', ylabel='Density'>"
            ]
          },
          "metadata": {},
          "execution_count": 36
        },
        {
          "output_type": "display_data",
          "data": {
            "text/plain": [
              "<Figure size 640x480 with 1 Axes>"
            ],
            "image/png": "[encoded data removed]"
          },
          "metadata": {}
        }
      ]
    },
    {
      "cell_type": "code",
      "source": [
        "m=data['Urban population (% of total population)'].mean()\n",
        "sns.distplot(data['Urban population (% of total population)'])\n",
        "import matplotlib.pyplot as plt\n",
        "plt.axvline(x=m,c='r')"
      ],
      "metadata": {
        "colab": {
          "base_uri": "https://localhost:8080/",
          "height": 657
        },
        "id": "pHDjr1xtJ2pw",
        "outputId": "6052fa12-4f3b-4250-8ec4-0b7654675a93"
      },
      "execution_count": 40,
      "outputs": [
        {
          "output_type": "stream",
          "name": "stderr",
          "text": [
            "<ipython-input-40-fde4fbded8d9>:2: UserWarning: \n",
            "\n",
            "`distplot` is a deprecated function and will be removed in seaborn v0.14.0.\n",
            "\n",
            "Please adapt your code to use either `displot` (a figure-level function with\n",
            "similar flexibility) or `histplot` (an axes-level function for histograms).\n",
            "\n",
            "For a guide to updating your code to use the new functions, please see\n",
            "https://gist.github.com/mwaskom/de44147ed2974457ad6372750bbe5751\n",
            "\n",
            "  sns.distplot(data['Urban population (% of total population)'])\n"
          ]
        },
        {
          "output_type": "execute_result",
          "data": {
            "text/plain": [
              "<matplotlib.lines.Line2D at 0x7ce905a7b1f0>"
            ]
          },
          "metadata": {},
          "execution_count": 40
        },
        {
          "output_type": "display_data",
          "data": {
            "text/plain": [
              "<Figure size 640x480 with 1 Axes>"
            ],
            "image/png": "[encoded data removed]"
          },
          "metadata": {}
        }
      ]
    },
    {
      "cell_type": "code",
      "source": [
        "data['Urban population (% of total population)'].var()"
      ],
      "metadata": {
        "colab": {
          "base_uri": "https://localhost:8080/"
        },
        "id": "OremB8mxKFqu",
        "outputId": "2c5bf74d-cae3-4335-f8ce-c1229269aca4"
      },
      "execution_count": 43,
      "outputs": [
        {
          "output_type": "execute_result",
          "data": {
            "text/plain": [
              "635.3628181261013"
            ]
          },
          "metadata": {},
          "execution_count": 43
        }
      ]
    },
    {
      "cell_type": "code",
      "source": [
        "data['Urban population (% of total population)'].std()"
      ],
      "metadata": {
        "colab": {
          "base_uri": "https://localhost:8080/"
        },
        "id": "qc2jrej4K9ew",
        "outputId": "93e7d766-541b-46ff-975d-5137ed8b0b55"
      },
      "execution_count": 44,
      "outputs": [
        {
          "output_type": "execute_result",
          "data": {
            "text/plain": [
              "25.206404307756813"
            ]
          },
          "metadata": {},
          "execution_count": 44
        }
      ]
    },
    {
      "cell_type": "code",
      "source": [
        "# 'Population in thousands (2017)' >500000"
      ],
      "metadata": {
        "id": "PmT5qRnjLNcB"
      },
      "execution_count": 45,
      "outputs": []
    },
    {
      "cell_type": "code",
      "source": [
        "data['population']=np.where(data['Population in thousands (2017)']>50000,1,0)"
      ],
      "metadata": {
        "id": "bGfWqAFWMG9-"
      },
      "execution_count": 46,
      "outputs": []
    },
    {
      "cell_type": "code",
      "source": [
        "data['population']"
      ],
      "metadata": {
        "colab": {
          "base_uri": "https://localhost:8080/"
        },
        "id": "KQZc6c7fMTbk",
        "outputId": "c33a4f57-7c01-44a0-d7a8-5b43c2ed7b70"
      },
      "execution_count": 47,
      "outputs": [
        {
          "output_type": "execute_result",
          "data": {
            "text/plain": [
              "0      0\n",
              "1      0\n",
              "2      0\n",
              "3      0\n",
              "4      0\n",
              "      ..\n",
              "224    0\n",
              "225    0\n",
              "226    0\n",
              "227    0\n",
              "228    0\n",
              "Name: population, Length: 229, dtype: int64"
            ]
          },
          "metadata": {},
          "execution_count": 47
        }
      ]
    },
    {
      "cell_type": "code",
      "source": [
        "data['density']=np.where(data['Population density (per km2, 2017)']>=100.0,1,0)"
      ],
      "metadata": {
        "id": "8mh--EHBMYzL"
      },
      "execution_count": 48,
      "outputs": []
    },
    {
      "cell_type": "code",
      "source": [
        "data['count']=1"
      ],
      "metadata": {
        "id": "ihWHH91vMsZs"
      },
      "execution_count": 49,
      "outputs": []
    },
    {
      "cell_type": "code",
      "source": [
        "df=data[['population','density','count']]"
      ],
      "metadata": {
        "id": "Xh1FCUbmMw3Z"
      },
      "execution_count": 50,
      "outputs": []
    },
    {
      "cell_type": "code",
      "source": [
        "df.head()"
      ],
      "metadata": {
        "colab": {
          "base_uri": "https://localhost:8080/",
          "height": 206
        },
        "id": "jTxMi-49M3M3",
        "outputId": "55e1be9c-3031-41d3-fb3a-848821c8dcc5"
      },
      "execution_count": 51,
      "outputs": [
        {
          "output_type": "execute_result",
          "data": {
            "text/plain": [
              "   population  density  count\n",
              "0           0        0      1\n",
              "1           0        1      1\n",
              "2           0        0      1\n",
              "3           0        1      1\n",
              "4           0        1      1"
            ],
            "text/html": [
              "\n",
              "  <div id=\"df-6b73591d-86d9-4100-a7cd-0323534f2ec8\" class=\"colab-df-container\">\n",
              "    <div>\n",
              "<style scoped>\n",
              "    .dataframe tbody tr th:only-of-type {\n",
              "        vertical-align: middle;\n",
              "    }\n",
              "\n",
              "    .dataframe tbody tr th {\n",
              "        vertical-align: top;\n",
              "    }\n",
              "\n",
              "    .dataframe thead th {\n",
              "        text-align: right;\n",
              "    }\n",
              "</style>\n",
              "<table border=\"1\" class=\"dataframe\">\n",
              "  <thead>\n",
              "    <tr style=\"text-align: right;\">\n",
              "      <th></th>\n",
              "      <th>population</th>\n",
              "      <th>density</th>\n",
              "      <th>count</th>\n",
              "    </tr>\n",
              "  </thead>\n",
              "  <tbody>\n",
              "    <tr>\n",
              "      <th>0</th>\n",
              "      <td>0</td>\n",
              "      <td>0</td>\n",
              "      <td>1</td>\n",
              "    </tr>\n",
              "    <tr>\n",
              "      <th>1</th>\n",
              "      <td>0</td>\n",
              "      <td>1</td>\n",
              "      <td>1</td>\n",
              "    </tr>\n",
              "    <tr>\n",
              "      <th>2</th>\n",
              "      <td>0</td>\n",
              "      <td>0</td>\n",
              "      <td>1</td>\n",
              "    </tr>\n",
              "    <tr>\n",
              "      <th>3</th>\n",
              "      <td>0</td>\n",
              "      <td>1</td>\n",
              "      <td>1</td>\n",
              "    </tr>\n",
              "    <tr>\n",
              "      <th>4</th>\n",
              "      <td>0</td>\n",
              "      <td>1</td>\n",
              "      <td>1</td>\n",
              "    </tr>\n",
              "  </tbody>\n",
              "</table>\n",
              "</div>\n",
              "    <div class=\"colab-df-buttons\">\n",
              "\n",
              "  <div class=\"colab-df-container\">\n",
              "    <button class=\"colab-df-convert\" onclick=\"convertToInteractive('df-6b73591d-86d9-4100-a7cd-0323534f2ec8')\"\n",
              "            title=\"Convert this dataframe to an interactive table.\"\n",
              "            style=\"display:none;\">\n",
              "\n",
              "  <svg xmlns=\"http://www.w3.org/2000/svg\" height=\"24px\" viewBox=\"0 -960 960 960\">\n",
              "    <path d=\"M120-120v-720h720v720H120Zm60-500h600v-160H180v160Zm220 220h160v-160H400v160Zm0 220h160v-160H400v160ZM180-400h160v-160H180v160Zm440 0h160v-160H620v160ZM180-180h160v-160H180v160Zm440 0h160v-160H620v160Z\"/>\n",
              "  </svg>\n",
              "    </button>\n",
              "\n",
              "  <style>\n",
              "    .colab-df-container {\n",
              "      display:flex;\n",
              "      gap: 12px;\n",
              "    }\n",
              "\n",
              "    .colab-df-convert {\n",
              "      background-color: #E8F0FE;\n",
              "      border: none;\n",
              "      border-radius: 50%;\n",
              "      cursor: pointer;\n",
              "      display: none;\n",
              "      fill: #1967D2;\n",
              "      height: 32px;\n",
              "      padding: 0 0 0 0;\n",
              "      width: 32px;\n",
              "    }\n",
              "\n",
              "    .colab-df-convert:hover {\n",
              "      background-color: #E2EBFA;\n",
              "      box-shadow: 0px 1px 2px rgba(60, 64, 67, 0.3), 0px 1px 3px 1px rgba(60, 64, 67, 0.15);\n",
              "      fill: #174EA6;\n",
              "    }\n",
              "\n",
              "    .colab-df-buttons div {\n",
              "      margin-bottom: 4px;\n",
              "    }\n",
              "\n",
              "    [theme=dark] .colab-df-convert {\n",
              "      background-color: #3B4455;\n",
              "      fill: #D2E3FC;\n",
              "    }\n",
              "\n",
              "    [theme=dark] .colab-df-convert:hover {\n",
              "      background-color: #434B5C;\n",
              "      box-shadow: 0px 1px 3px 1px rgba(0, 0, 0, 0.15);\n",
              "      filter: drop-shadow(0px 1px 2px rgba(0, 0, 0, 0.3));\n",
              "      fill: #FFFFFF;\n",
              "    }\n",
              "  </style>\n",
              "\n",
              "    <script>\n",
              "      const buttonEl =\n",
              "        document.querySelector('#df-6b73591d-86d9-4100-a7cd-0323534f2ec8 button.colab-df-convert');\n",
              "      buttonEl.style.display =\n",
              "        google.colab.kernel.accessAllowed ? 'block' : 'none';\n",
              "\n",
              "      async function convertToInteractive(key) {\n",
              "        const element = document.querySelector('#df-6b73591d-86d9-4100-a7cd-0323534f2ec8');\n",
              "        const dataTable =\n",
              "          await google.colab.kernel.invokeFunction('convertToInteractive',\n",
              "                                                    [key], {});\n",
              "        if (!dataTable) return;\n",
              "\n",
              "        const docLinkHtml = 'Like what you see? Visit the ' +\n",
              "          '<a target=\"_blank\" href=https://colab.research.google.com/notebooks/data_table.ipynb>data table notebook</a>'\n",
              "          + ' to learn more about interactive tables.';\n",
              "        element.innerHTML = '';\n",
              "        dataTable['output_type'] = 'display_data';\n",
              "        await google.colab.output.renderOutput(dataTable, element);\n",
              "        const docLink = document.createElement('div');\n",
              "        docLink.innerHTML = docLinkHtml;\n",
              "        element.appendChild(docLink);\n",
              "      }\n",
              "    </script>\n",
              "  </div>\n",
              "\n",
              "\n",
              "<div id=\"df-e341c586-0d83-4dd2-9805-fa32e816892b\">\n",
              "  <button class=\"colab-df-quickchart\" onclick=\"quickchart('df-e341c586-0d83-4dd2-9805-fa32e816892b')\"\n",
              "            title=\"Suggest charts.\"\n",
              "            style=\"display:none;\">\n",
              "\n",
              "<svg xmlns=\"http://www.w3.org/2000/svg\" height=\"24px\"viewBox=\"0 0 24 24\"\n",
              "     width=\"24px\">\n",
              "    <g>\n",
              "        <path d=\"M19 3H5c-1.1 0-2 .9-2 2v14c0 1.1.9 2 2 2h14c1.1 0 2-.9 2-2V5c0-1.1-.9-2-2-2zM9 17H7v-7h2v7zm4 0h-2V7h2v10zm4 0h-2v-4h2v4z\"/>\n",
              "    </g>\n",
              "</svg>\n",
              "  </button>\n",
              "\n",
              "<style>\n",
              "  .colab-df-quickchart {\n",
              "      --bg-color: #E8F0FE;\n",
              "      --fill-color: #1967D2;\n",
              "      --hover-bg-color: #E2EBFA;\n",
              "      --hover-fill-color: #174EA6;\n",
              "      --disabled-fill-color: #AAA;\n",
              "      --disabled-bg-color: #DDD;\n",
              "  }\n",
              "\n",
              "  [theme=dark] .colab-df-quickchart {\n",
              "      --bg-color: #3B4455;\n",
              "      --fill-color: #D2E3FC;\n",
              "      --hover-bg-color: #434B5C;\n",
              "      --hover-fill-color: #FFFFFF;\n",
              "      --disabled-bg-color: #3B4455;\n",
              "      --disabled-fill-color: #666;\n",
              "  }\n",
              "\n",
              "  .colab-df-quickchart {\n",
              "    background-color: var(--bg-color);\n",
              "    border: none;\n",
              "    border-radius: 50%;\n",
              "    cursor: pointer;\n",
              "    display: none;\n",
              "    fill: var(--fill-color);\n",
              "    height: 32px;\n",
              "    padding: 0;\n",
              "    width: 32px;\n",
              "  }\n",
              "\n",
              "  .colab-df-quickchart:hover {\n",
              "    background-color: var(--hover-bg-color);\n",
              "    box-shadow: 0 1px 2px rgba(60, 64, 67, 0.3), 0 1px 3px 1px rgba(60, 64, 67, 0.15);\n",
              "    fill: var(--button-hover-fill-color);\n",
              "  }\n",
              "\n",
              "  .colab-df-quickchart-complete:disabled,\n",
              "  .colab-df-quickchart-complete:disabled:hover {\n",
              "    background-color: var(--disabled-bg-color);\n",
              "    fill: var(--disabled-fill-color);\n",
              "    box-shadow: none;\n",
              "  }\n",
              "\n",
              "  .colab-df-spinner {\n",
              "    border: 2px solid var(--fill-color);\n",
              "    border-color: transparent;\n",
              "    border-bottom-color: var(--fill-color);\n",
              "    animation:\n",
              "      spin 1s steps(1) infinite;\n",
              "  }\n",
              "\n",
              "  @keyframes spin {\n",
              "    0% {\n",
              "      border-color: transparent;\n",
              "      border-bottom-color: var(--fill-color);\n",
              "      border-left-color: var(--fill-color);\n",
              "    }\n",
              "    20% {\n",
              "      border-color: transparent;\n",
              "      border-left-color: var(--fill-color);\n",
              "      border-top-color: var(--fill-color);\n",
              "    }\n",
              "    30% {\n",
              "      border-color: transparent;\n",
              "      border-left-color: var(--fill-color);\n",
              "      border-top-color: var(--fill-color);\n",
              "      border-right-color: var(--fill-color);\n",
              "    }\n",
              "    40% {\n",
              "      border-color: transparent;\n",
              "      border-right-color: var(--fill-color);\n",
              "      border-top-color: var(--fill-color);\n",
              "    }\n",
              "    60% {\n",
              "      border-color: transparent;\n",
              "      border-right-color: var(--fill-color);\n",
              "    }\n",
              "    80% {\n",
              "      border-color: transparent;\n",
              "      border-right-color: var(--fill-color);\n",
              "      border-bottom-color: var(--fill-color);\n",
              "    }\n",
              "    90% {\n",
              "      border-color: transparent;\n",
              "      border-bottom-color: var(--fill-color);\n",
              "    }\n",
              "  }\n",
              "</style>\n",
              "\n",
              "  <script>\n",
              "    async function quickchart(key) {\n",
              "      const quickchartButtonEl =\n",
              "        document.querySelector('#' + key + ' button');\n",
              "      quickchartButtonEl.disabled = true;  // To prevent multiple clicks.\n",
              "      quickchartButtonEl.classList.add('colab-df-spinner');\n",
              "      try {\n",
              "        const charts = await google.colab.kernel.invokeFunction(\n",
              "            'suggestCharts', [key], {});\n",
              "      } catch (error) {\n",
              "        console.error('Error during call to suggestCharts:', error);\n",
              "      }\n",
              "      quickchartButtonEl.classList.remove('colab-df-spinner');\n",
              "      quickchartButtonEl.classList.add('colab-df-quickchart-complete');\n",
              "    }\n",
              "    (() => {\n",
              "      let quickchartButtonEl =\n",
              "        document.querySelector('#df-e341c586-0d83-4dd2-9805-fa32e816892b button');\n",
              "      quickchartButtonEl.style.display =\n",
              "        google.colab.kernel.accessAllowed ? 'block' : 'none';\n",
              "    })();\n",
              "  </script>\n",
              "</div>\n",
              "    </div>\n",
              "  </div>\n"
            ]
          },
          "metadata": {},
          "execution_count": 51
        }
      ]
    },
    {
      "cell_type": "code",
      "source": [
        "pd.pivot_table(\n",
        "    df,values='count',\n",
        "    index=['population'],\n",
        "    columns=['density']\n",
        "    ,aggfunc=np.size\n",
        ")\n",
        "# np.size----> check total number of elements\n",
        "# aggfunc----> aggerate funcction"
      ],
      "metadata": {
        "colab": {
          "base_uri": "https://localhost:8080/",
          "height": 143
        },
        "id": "Ok4VfdM_M4ca",
        "outputId": "16fcefcb-daf9-45f7-f74f-6239b4d28c0b"
      },
      "execution_count": 56,
      "outputs": [
        {
          "output_type": "execute_result",
          "data": {
            "text/plain": [
              "density       0   1\n",
              "population         \n",
              "0           113  89\n",
              "1            10  17"
            ],
            "text/html": [
              "\n",
              "  <div id=\"df-eb27e50d-b852-44d3-bbf5-059d4306aae1\" class=\"colab-df-container\">\n",
              "    <div>\n",
              "<style scoped>\n",
              "    .dataframe tbody tr th:only-of-type {\n",
              "        vertical-align: middle;\n",
              "    }\n",
              "\n",
              "    .dataframe tbody tr th {\n",
              "        vertical-align: top;\n",
              "    }\n",
              "\n",
              "    .dataframe thead th {\n",
              "        text-align: right;\n",
              "    }\n",
              "</style>\n",
              "<table border=\"1\" class=\"dataframe\">\n",
              "  <thead>\n",
              "    <tr style=\"text-align: right;\">\n",
              "      <th>density</th>\n",
              "      <th>0</th>\n",
              "      <th>1</th>\n",
              "    </tr>\n",
              "    <tr>\n",
              "      <th>population</th>\n",
              "      <th></th>\n",
              "      <th></th>\n",
              "    </tr>\n",
              "  </thead>\n",
              "  <tbody>\n",
              "    <tr>\n",
              "      <th>0</th>\n",
              "      <td>113</td>\n",
              "      <td>89</td>\n",
              "    </tr>\n",
              "    <tr>\n",
              "      <th>1</th>\n",
              "      <td>10</td>\n",
              "      <td>17</td>\n",
              "    </tr>\n",
              "  </tbody>\n",
              "</table>\n",
              "</div>\n",
              "    <div class=\"colab-df-buttons\">\n",
              "\n",
              "  <div class=\"colab-df-container\">\n",
              "    <button class=\"colab-df-convert\" onclick=\"convertToInteractive('df-eb27e50d-b852-44d3-bbf5-059d4306aae1')\"\n",
              "            title=\"Convert this dataframe to an interactive table.\"\n",
              "            style=\"display:none;\">\n",
              "\n",
              "  <svg xmlns=\"http://www.w3.org/2000/svg\" height=\"24px\" viewBox=\"0 -960 960 960\">\n",
              "    <path d=\"M120-120v-720h720v720H120Zm60-500h600v-160H180v160Zm220 220h160v-160H400v160Zm0 220h160v-160H400v160ZM180-400h160v-160H180v160Zm440 0h160v-160H620v160ZM180-180h160v-160H180v160Zm440 0h160v-160H620v160Z\"/>\n",
              "  </svg>\n",
              "    </button>\n",
              "\n",
              "  <style>\n",
              "    .colab-df-container {\n",
              "      display:flex;\n",
              "      gap: 12px;\n",
              "    }\n",
              "\n",
              "    .colab-df-convert {\n",
              "      background-color: #E8F0FE;\n",
              "      border: none;\n",
              "      border-radius: 50%;\n",
              "      cursor: pointer;\n",
              "      display: none;\n",
              "      fill: #1967D2;\n",
              "      height: 32px;\n",
              "      padding: 0 0 0 0;\n",
              "      width: 32px;\n",
              "    }\n",
              "\n",
              "    .colab-df-convert:hover {\n",
              "      background-color: #E2EBFA;\n",
              "      box-shadow: 0px 1px 2px rgba(60, 64, 67, 0.3), 0px 1px 3px 1px rgba(60, 64, 67, 0.15);\n",
              "      fill: #174EA6;\n",
              "    }\n",
              "\n",
              "    .colab-df-buttons div {\n",
              "      margin-bottom: 4px;\n",
              "    }\n",
              "\n",
              "    [theme=dark] .colab-df-convert {\n",
              "      background-color: #3B4455;\n",
              "      fill: #D2E3FC;\n",
              "    }\n",
              "\n",
              "    [theme=dark] .colab-df-convert:hover {\n",
              "      background-color: #434B5C;\n",
              "      box-shadow: 0px 1px 3px 1px rgba(0, 0, 0, 0.15);\n",
              "      filter: drop-shadow(0px 1px 2px rgba(0, 0, 0, 0.3));\n",
              "      fill: #FFFFFF;\n",
              "    }\n",
              "  </style>\n",
              "\n",
              "    <script>\n",
              "      const buttonEl =\n",
              "        document.querySelector('#df-eb27e50d-b852-44d3-bbf5-059d4306aae1 button.colab-df-convert');\n",
              "      buttonEl.style.display =\n",
              "        google.colab.kernel.accessAllowed ? 'block' : 'none';\n",
              "\n",
              "      async function convertToInteractive(key) {\n",
              "        const element = document.querySelector('#df-eb27e50d-b852-44d3-bbf5-059d4306aae1');\n",
              "        const dataTable =\n",
              "          await google.colab.kernel.invokeFunction('convertToInteractive',\n",
              "                                                    [key], {});\n",
              "        if (!dataTable) return;\n",
              "\n",
              "        const docLinkHtml = 'Like what you see? Visit the ' +\n",
              "          '<a target=\"_blank\" href=https://colab.research.google.com/notebooks/data_table.ipynb>data table notebook</a>'\n",
              "          + ' to learn more about interactive tables.';\n",
              "        element.innerHTML = '';\n",
              "        dataTable['output_type'] = 'display_data';\n",
              "        await google.colab.output.renderOutput(dataTable, element);\n",
              "        const docLink = document.createElement('div');\n",
              "        docLink.innerHTML = docLinkHtml;\n",
              "        element.appendChild(docLink);\n",
              "      }\n",
              "    </script>\n",
              "  </div>\n",
              "\n",
              "\n",
              "<div id=\"df-3d99425f-ee33-42b9-8e2e-6a91fabf447c\">\n",
              "  <button class=\"colab-df-quickchart\" onclick=\"quickchart('df-3d99425f-ee33-42b9-8e2e-6a91fabf447c')\"\n",
              "            title=\"Suggest charts.\"\n",
              "            style=\"display:none;\">\n",
              "\n",
              "<svg xmlns=\"http://www.w3.org/2000/svg\" height=\"24px\"viewBox=\"0 0 24 24\"\n",
              "     width=\"24px\">\n",
              "    <g>\n",
              "        <path d=\"M19 3H5c-1.1 0-2 .9-2 2v14c0 1.1.9 2 2 2h14c1.1 0 2-.9 2-2V5c0-1.1-.9-2-2-2zM9 17H7v-7h2v7zm4 0h-2V7h2v10zm4 0h-2v-4h2v4z\"/>\n",
              "    </g>\n",
              "</svg>\n",
              "  </button>\n",
              "\n",
              "<style>\n",
              "  .colab-df-quickchart {\n",
              "      --bg-color: #E8F0FE;\n",
              "      --fill-color: #1967D2;\n",
              "      --hover-bg-color: #E2EBFA;\n",
              "      --hover-fill-color: #174EA6;\n",
              "      --disabled-fill-color: #AAA;\n",
              "      --disabled-bg-color: #DDD;\n",
              "  }\n",
              "\n",
              "  [theme=dark] .colab-df-quickchart {\n",
              "      --bg-color: #3B4455;\n",
              "      --fill-color: #D2E3FC;\n",
              "      --hover-bg-color: #434B5C;\n",
              "      --hover-fill-color: #FFFFFF;\n",
              "      --disabled-bg-color: #3B4455;\n",
              "      --disabled-fill-color: #666;\n",
              "  }\n",
              "\n",
              "  .colab-df-quickchart {\n",
              "    background-color: var(--bg-color);\n",
              "    border: none;\n",
              "    border-radius: 50%;\n",
              "    cursor: pointer;\n",
              "    display: none;\n",
              "    fill: var(--fill-color);\n",
              "    height: 32px;\n",
              "    padding: 0;\n",
              "    width: 32px;\n",
              "  }\n",
              "\n",
              "  .colab-df-quickchart:hover {\n",
              "    background-color: var(--hover-bg-color);\n",
              "    box-shadow: 0 1px 2px rgba(60, 64, 67, 0.3), 0 1px 3px 1px rgba(60, 64, 67, 0.15);\n",
              "    fill: var(--button-hover-fill-color);\n",
              "  }\n",
              "\n",
              "  .colab-df-quickchart-complete:disabled,\n",
              "  .colab-df-quickchart-complete:disabled:hover {\n",
              "    background-color: var(--disabled-bg-color);\n",
              "    fill: var(--disabled-fill-color);\n",
              "    box-shadow: none;\n",
              "  }\n",
              "\n",
              "  .colab-df-spinner {\n",
              "    border: 2px solid var(--fill-color);\n",
              "    border-color: transparent;\n",
              "    border-bottom-color: var(--fill-color);\n",
              "    animation:\n",
              "      spin 1s steps(1) infinite;\n",
              "  }\n",
              "\n",
              "  @keyframes spin {\n",
              "    0% {\n",
              "      border-color: transparent;\n",
              "      border-bottom-color: var(--fill-color);\n",
              "      border-left-color: var(--fill-color);\n",
              "    }\n",
              "    20% {\n",
              "      border-color: transparent;\n",
              "      border-left-color: var(--fill-color);\n",
              "      border-top-color: var(--fill-color);\n",
              "    }\n",
              "    30% {\n",
              "      border-color: transparent;\n",
              "      border-left-color: var(--fill-color);\n",
              "      border-top-color: var(--fill-color);\n",
              "      border-right-color: var(--fill-color);\n",
              "    }\n",
              "    40% {\n",
              "      border-color: transparent;\n",
              "      border-right-color: var(--fill-color);\n",
              "      border-top-color: var(--fill-color);\n",
              "    }\n",
              "    60% {\n",
              "      border-color: transparent;\n",
              "      border-right-color: var(--fill-color);\n",
              "    }\n",
              "    80% {\n",
              "      border-color: transparent;\n",
              "      border-right-color: var(--fill-color);\n",
              "      border-bottom-color: var(--fill-color);\n",
              "    }\n",
              "    90% {\n",
              "      border-color: transparent;\n",
              "      border-bottom-color: var(--fill-color);\n",
              "    }\n",
              "  }\n",
              "</style>\n",
              "\n",
              "  <script>\n",
              "    async function quickchart(key) {\n",
              "      const quickchartButtonEl =\n",
              "        document.querySelector('#' + key + ' button');\n",
              "      quickchartButtonEl.disabled = true;  // To prevent multiple clicks.\n",
              "      quickchartButtonEl.classList.add('colab-df-spinner');\n",
              "      try {\n",
              "        const charts = await google.colab.kernel.invokeFunction(\n",
              "            'suggestCharts', [key], {});\n",
              "      } catch (error) {\n",
              "        console.error('Error during call to suggestCharts:', error);\n",
              "      }\n",
              "      quickchartButtonEl.classList.remove('colab-df-spinner');\n",
              "      quickchartButtonEl.classList.add('colab-df-quickchart-complete');\n",
              "    }\n",
              "    (() => {\n",
              "      let quickchartButtonEl =\n",
              "        document.querySelector('#df-3d99425f-ee33-42b9-8e2e-6a91fabf447c button');\n",
              "      quickchartButtonEl.style.display =\n",
              "        google.colab.kernel.accessAllowed ? 'block' : 'none';\n",
              "    })();\n",
              "  </script>\n",
              "</div>\n",
              "    </div>\n",
              "  </div>\n"
            ]
          },
          "metadata": {},
          "execution_count": 56
        }
      ]
    },
    {
      "cell_type": "code",
      "source": [
        "# 113(p<50k,d<100)  89(p<50k,d>100)\n",
        "# 10 (p>50k,d<100)  17(p>50k,d>100.0)"
      ],
      "metadata": {
        "id": "-MCeeKbeNMIE"
      },
      "execution_count": 54,
      "outputs": []
    },
    {
      "cell_type": "code",
      "source": [],
      "metadata": {
        "id": "7vfHiL8BRvub"
      },
      "execution_count": null,
      "outputs": []
    }
  ]
}